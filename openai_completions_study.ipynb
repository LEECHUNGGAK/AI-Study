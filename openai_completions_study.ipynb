{
 "cells": [
  {
   "cell_type": "code",
   "execution_count": 2,
   "id": "a5cd0484-a9e7-4c1a-a57f-f6811f575c38",
   "metadata": {
    "tags": []
   },
   "outputs": [],
   "source": [
    "import os\n",
    "import subprocess\n",
    "import json"
   ]
  },
  {
   "cell_type": "code",
   "execution_count": 13,
   "id": "ea0a27cc-6c93-4b68-99a4-aea94f132f7e",
   "metadata": {
    "tags": []
   },
   "outputs": [],
   "source": [
    "os.environ[\"OPENAI_API_KEY\"] = \"OPENAI_API_KEY\""
   ]
  },
  {
   "cell_type": "markdown",
   "id": "358c59ca-f8bb-448b-b75a-1bd4b3c3cced",
   "metadata": {},
   "source": [
    "# 1) 도입"
   ]
  },
  {
   "cell_type": "code",
   "execution_count": 14,
   "id": "ff5e081c-b563-408b-b05e-0baa1aa45238",
   "metadata": {
    "tags": []
   },
   "outputs": [],
   "source": [
    "request_x = subprocess.run(\n",
    "    [\"curl\",\n",
    "     \"https://api.openai.com/v1/chat/completions\",\n",
    "     \"-H\", \"Content-Type: application/json\",\n",
    "     \"-H\", \"Authorization: Bearer %s\" % os.environ.get(\"OPENAI_API_KEY\"),\n",
    "     \"-d\", '{ \\\n",
    "     \"model\": \"gpt-3.5-turbo\", \\\n",
    "     \"messages\": [{\"role\": \"user\", \"content\": \"Say this is a test!\"}], \\\n",
    "     \"temperature\": 0.7 \\\n",
    "     }'],\n",
    "    capture_output = True\n",
    ")"
   ]
  },
  {
   "cell_type": "code",
   "execution_count": 16,
   "id": "430e92fb-8a46-4f23-8425-723b0c9f5f16",
   "metadata": {
    "tags": []
   },
   "outputs": [],
   "source": [
    "request_x_json = json.loads(request_x.stdout)"
   ]
  },
  {
   "cell_type": "code",
   "execution_count": 17,
   "id": "76a8f653-988d-4774-a272-7ca3fbc0b51e",
   "metadata": {
    "tags": []
   },
   "outputs": [
    {
     "data": {
      "text/plain": [
       "{'id': 'chatcmpl-79nA1EOv3SylkdjfmJPpV1TosBLt9',\n",
       " 'object': 'chat.completion',\n",
       " 'created': 1682568281,\n",
       " 'model': 'gpt-3.5-turbo-0301',\n",
       " 'usage': {'prompt_tokens': 14, 'completion_tokens': 5, 'total_tokens': 19},\n",
       " 'choices': [{'message': {'role': 'assistant', 'content': 'This is a test!'},\n",
       "   'finish_reason': 'stop',\n",
       "   'index': 0}]}"
      ]
     },
     "execution_count": 17,
     "metadata": {},
     "output_type": "execute_result"
    }
   ],
   "source": [
    "request_x_json"
   ]
  },
  {
   "cell_type": "code",
   "execution_count": 18,
   "id": "ce67767c-9c71-4baf-965d-175e18fc8cb9",
   "metadata": {
    "tags": []
   },
   "outputs": [
    {
     "data": {
      "text/plain": [
       "'This is a test!'"
      ]
     },
     "execution_count": 18,
     "metadata": {},
     "output_type": "execute_result"
    }
   ],
   "source": [
    "request_x_json[\"choices\"][0][\"message\"][\"content\"]"
   ]
  },
  {
   "cell_type": "markdown",
   "id": "4545130f-fbc7-4cde-8745-4cf1ea515c4b",
   "metadata": {},
   "source": [
    "# 2) 텍스트 완성"
   ]
  },
  {
   "cell_type": "code",
   "execution_count": 19,
   "id": "b9840f12-785f-4d3f-9fb5-bc17268f3db9",
   "metadata": {
    "tags": []
   },
   "outputs": [],
   "source": [
    "completion_x = subprocess.run(\n",
    "    [\"curl\",\n",
    "     \"https://api.openai.com/v1/completions\",\n",
    "     \"-H\", \"Content-Type: application/json\",\n",
    "     \"-H\", \"Authorization: Bearer %s\" % os.environ.get(\"OPENAI_API_KEY\"),\n",
    "     \"-d\", '{ \\\n",
    "      \"model\": \"text-davinci-003\", \\\n",
    "      \"prompt\": \"Say this is a test\", \\\n",
    "      \"max_tokens\": 7, \\\n",
    "      \"temperature\": 0 \\\n",
    "     }'],\n",
    "    capture_output = True\n",
    ")"
   ]
  },
  {
   "cell_type": "code",
   "execution_count": 20,
   "id": "49ea76c6-ba5e-441d-9226-d3ba2c921ee6",
   "metadata": {
    "tags": []
   },
   "outputs": [],
   "source": [
    "completion_x_json = json.loads(completion_x.stdout)"
   ]
  },
  {
   "cell_type": "code",
   "execution_count": 21,
   "id": "327d4646-c2f6-42c2-af66-08d0870ee7e1",
   "metadata": {
    "tags": []
   },
   "outputs": [
    {
     "data": {
      "text/plain": [
       "{'id': 'cmpl-79nAKI15HYLM1Evr4iut6cxSF9NS2',\n",
       " 'object': 'text_completion',\n",
       " 'created': 1682568300,\n",
       " 'model': 'text-davinci-003',\n",
       " 'choices': [{'text': '\\n\\nThis is indeed a test',\n",
       "   'index': 0,\n",
       "   'logprobs': None,\n",
       "   'finish_reason': 'length'}],\n",
       " 'usage': {'prompt_tokens': 5, 'completion_tokens': 7, 'total_tokens': 12}}"
      ]
     },
     "execution_count": 21,
     "metadata": {},
     "output_type": "execute_result"
    }
   ],
   "source": [
    "completion_x_json"
   ]
  },
  {
   "cell_type": "code",
   "execution_count": 22,
   "id": "19df554f-e407-4bac-ac05-a68fbb75aef0",
   "metadata": {
    "tags": []
   },
   "outputs": [
    {
     "data": {
      "text/plain": [
       "'\\n\\nThis is indeed a test'"
      ]
     },
     "execution_count": 22,
     "metadata": {},
     "output_type": "execute_result"
    }
   ],
   "source": [
    "completion_x_json[\"choices\"][0][\"text\"]"
   ]
  }
 ],
 "metadata": {
  "kernelspec": {
   "display_name": "Python 3 (ipykernel)",
   "language": "python",
   "name": "python3"
  },
  "language_info": {
   "codemirror_mode": {
    "name": "ipython",
    "version": 3
   },
   "file_extension": ".py",
   "mimetype": "text/x-python",
   "name": "python",
   "nbconvert_exporter": "python",
   "pygments_lexer": "ipython3",
   "version": "3.7.12"
  }
 },
 "nbformat": 4,
 "nbformat_minor": 5
}
