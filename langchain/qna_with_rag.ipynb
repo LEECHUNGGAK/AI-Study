{
 "cells": [
  {
   "cell_type": "code",
   "execution_count": 27,
   "metadata": {},
   "outputs": [
    {
     "data": {
      "text/plain": [
       "True"
      ]
     },
     "execution_count": 27,
     "metadata": {},
     "output_type": "execute_result"
    }
   ],
   "source": [
    "from dotenv import load_dotenv\n",
    "import os\n",
    "from langchain_openai import ChatOpenAI\n",
    "from langchain_community.document_loaders import WebBaseLoader\n",
    "import bs4\n",
    "from langchain_text_splitters import RecursiveCharacterTextSplitter\n",
    "from langchain_elasticsearch import ElasticsearchStore\n",
    "from langchain_openai import OpenAIEmbeddings\n",
    "from langchain_core.prompts import ChatPromptTemplate\n",
    "from langchain_core.runnables import RunnablePassthrough\n",
    "from langchain_core.output_parsers import StrOutputParser\n",
    "\n",
    "load_dotenv()"
   ]
  },
  {
   "cell_type": "code",
   "execution_count": 4,
   "metadata": {},
   "outputs": [],
   "source": [
    "llm = ChatOpenAI(model=\"gpt-4-turbo-preview\")"
   ]
  },
  {
   "cell_type": "code",
   "execution_count": 7,
   "metadata": {},
   "outputs": [],
   "source": [
    "loader = WebBaseLoader(\n",
    "    web_paths=(\"https://lilianweng.github.io/posts/2023-06-23-agent\",),\n",
    "    bs_kwargs={\n",
    "        \"parse_only\": bs4.SoupStrainer(\n",
    "            class_=(\n",
    "                \"post-content\",\n",
    "                \"post-title\",\n",
    "                \"post-header\",\n",
    "            ),\n",
    "        ),\n",
    "    },\n",
    ")\n",
    "\n",
    "docs = loader.load()"
   ]
  },
  {
   "cell_type": "code",
   "execution_count": 18,
   "metadata": {},
   "outputs": [],
   "source": [
    "text_splitter = RecursiveCharacterTextSplitter(\n",
    "    chunk_size=1000,\n",
    "    chunk_overlap=200,\n",
    ")\n",
    "\n",
    "splits = text_splitter.split_documents(docs)"
   ]
  },
  {
   "cell_type": "code",
   "execution_count": 21,
   "metadata": {},
   "outputs": [],
   "source": [
    "embedding = OpenAIEmbeddings()\n",
    "\n",
    "vectorstore = ElasticsearchStore.from_documents(\n",
    "    documents=splits,\n",
    "    embedding=embedding,\n",
    "    index_name=\"qna_with_rag\",\n",
    "    es_url=os.getenv(\"ELASTICSEARCH_URL\"),\n",
    ")"
   ]
  },
  {
   "cell_type": "code",
   "execution_count": 29,
   "metadata": {},
   "outputs": [],
   "source": [
    "retriever = vectorstore.as_retriever()"
   ]
  },
  {
   "cell_type": "code",
   "execution_count": 24,
   "metadata": {},
   "outputs": [],
   "source": [
    "prompt = ChatPromptTemplate.from_messages(\n",
    "    [\n",
    "        (\n",
    "            \"user\",\n",
    "            (\n",
    "                \"You are an assistant for question-answering tasks. \"\n",
    "                \"Use the following pieces of retrieved context to answer the question. \"\n",
    "                \"If you don't know the answer, just say that you don't know. \"\n",
    "                \"Use three sentences maximum and keep the answer concise.\\n\\n\"\n",
    "                \"Question: {input}\\n\\n\"\n",
    "                \"Context: {context}\\n\\n\"\n",
    "                \"Answer:\"\n",
    "            ),\n",
    "        )\n",
    "    ]\n",
    ")"
   ]
  },
  {
   "cell_type": "code",
   "execution_count": 25,
   "metadata": {},
   "outputs": [],
   "source": [
    "def format_docs(docs):\n",
    "    return \"\\n\\n\".join(doc.page_content for doc in docs)"
   ]
  },
  {
   "cell_type": "code",
   "execution_count": 30,
   "metadata": {},
   "outputs": [],
   "source": [
    "chain = (\n",
    "    {\n",
    "        \"context\": retriever | format_docs,\n",
    "        \"input\": RunnablePassthrough(),\n",
    "    }\n",
    "    | prompt\n",
    "    | llm\n",
    "    | StrOutputParser()\n",
    ")"
   ]
  },
  {
   "cell_type": "code",
   "execution_count": 32,
   "metadata": {},
   "outputs": [
    {
     "data": {
      "text/plain": [
       "'작업 분해는 복잡한 작업을 더 작고 간단한 단계로 나누는 과정입니다. 이를 통해 큰 작업을 여러 관리 가능한 작업으로 변환하고 모델의 사고 과정을 해석하는 데 도움을 줍니다. 작업 분해는 간단한 프롬프팅, 특정 지시사항 사용, 또는 인간의 입력을 통해 수행될 수 있습니다.'"
      ]
     },
     "execution_count": 32,
     "metadata": {},
     "output_type": "execute_result"
    }
   ],
   "source": [
    "chain.invoke(\"작업 분해가 뭐야?\")"
   ]
  },
  {
   "cell_type": "code",
   "execution_count": 36,
   "metadata": {},
   "outputs": [],
   "source": [
    "from langchain.chains import create_history_aware_retriever\n",
    "from langchain_core.prompts import MessagesPlaceholder\n",
    "\n",
    "contextualize_question_system_prompt = (\n",
    "    \"대화 이력을 참조하는 마지막 사용자의 질문과 대화 이력이 주어졌을 때, 대화 이력 없이도 이해할 수 있는 질문을 구성하라.\"\n",
    "    # Given a chat history and the latest user question which might reference context in the chat history,\n",
    "    # formulate a standalone question which can be understood without the chat history.\n",
    "    \"질문에 대한 답변은 하지 않는다. 지시대로 질문을 재구성하거나, 질문 그대로 반환하라.\"\n",
    "    # Do not answer the question, just reformulate it if needed and otherwise return it as is.\n",
    ")\n",
    "\n",
    "contextualize_question_prompt = ChatPromptTemplate.from_messages(\n",
    "    [\n",
    "        (\"system\", contextualize_question_system_prompt),\n",
    "        MessagesPlaceholder(\"chat_history\"),\n",
    "        (\"human\", \"{input}\"),\n",
    "    ]\n",
    ")\n",
    "\n",
    "history_aware_retriever = create_history_aware_retriever(\n",
    "    llm,\n",
    "    retriever,\n",
    "    contextualize_question_prompt,\n",
    ")"
   ]
  },
  {
   "cell_type": "code",
   "execution_count": 37,
   "metadata": {},
   "outputs": [],
   "source": [
    "from langchain.chains import create_retrieval_chain\n",
    "from langchain.chains.combine_documents import create_stuff_documents_chain\n",
    "\n",
    "question_answer_system_prompt = (\n",
    "    \"너는 질답 작업을 위한 어시스턴트이다. \"\n",
    "    # You are an assisstant for question-answering tasks.\n",
    "    \"검색된 맥락을 사용하여 질문에 답변하라. \"\n",
    "    # Use the following pieces of retrieved context to answer the question.\n",
    "    \"만약 답변할 수 없는 경우, 모른다고 답변하라. \"\n",
    "    # If you don't know the answer, just say that you don't know.\n",
    "    \"3 문장 이내로 간결하게 답변하라.\\n\\n\"\n",
    "    # use three sentences maximum and keep the answer concise.\n",
    "    \"{context}\"\n",
    ")\n",
    "\n",
    "question_answer_prompt = ChatPromptTemplate.from_messages(\n",
    "    [\n",
    "        (\"system\", question_answer_system_prompt),\n",
    "        MessagesPlaceholder(\"chat_history\"),\n",
    "        (\"human\", \"{input}\"),\n",
    "    ]\n",
    ")\n",
    "\n",
    "question_answer_chain = create_stuff_documents_chain(\n",
    "    llm,\n",
    "    question_answer_prompt,\n",
    ")\n",
    "\n",
    "rag_chain = create_retrieval_chain(\n",
    "    history_aware_retriever,\n",
    "    question_answer_chain,\n",
    ")"
   ]
  },
  {
   "cell_type": "code",
   "execution_count": 43,
   "metadata": {},
   "outputs": [],
   "source": [
    "from langchain_core.messages import HumanMessage, AIMessage\n",
    "\n",
    "chat_history = []\n",
    "\n",
    "question = \"작업 분해가 뭐야?\"\n",
    "\n",
    "answer = rag_chain.invoke(\n",
    "    {\n",
    "        \"input\": question,\n",
    "        \"chat_history\": chat_history,\n",
    "    }\n",
    ")\n",
    "\n",
    "chat_history.extend(\n",
    "    [\n",
    "        HumanMessage(content=question),\n",
    "        AIMessage(content=answer[\"answer\"]),\n",
    "    ]\n",
    ")"
   ]
  },
  {
   "cell_type": "code",
   "execution_count": 46,
   "metadata": {},
   "outputs": [
    {
     "data": {
      "text/plain": [
       "'더 일반적인 작업 분해 기법 중 하나는 \"Chain of Thought\" (CoT)입니다. CoT는 모델에게 단계별로 생각하도록 지시하여 복잡한 작업을 여러 간단한 단계로 분해하고, 이를 통해 모델의 성능을 향상시키는 방식입니다. 이 방식은 모델의 사고 과정을 해석하는 데 도움을 주며, 복잡한 작업을 효과적으로 해결하는 데 널리 사용됩니다.'"
      ]
     },
     "execution_count": 46,
     "metadata": {},
     "output_type": "execute_result"
    }
   ],
   "source": [
    "answer[\"answer\"]"
   ]
  },
  {
   "cell_type": "code",
   "execution_count": 44,
   "metadata": {},
   "outputs": [],
   "source": [
    "question = \"더 일반적인 기법이 뭐야?\"\n",
    "\n",
    "answer = rag_chain.invoke(\n",
    "    {\n",
    "        \"input\": question,\n",
    "        \"chat_history\": chat_history,\n",
    "    }\n",
    ")\n",
    "\n",
    "chat_history.extend(\n",
    "    [\n",
    "        HumanMessage(content=question),\n",
    "        AIMessage(content=answer[\"answer\"]),\n",
    "    ]\n",
    ")"
   ]
  },
  {
   "cell_type": "code",
   "execution_count": 47,
   "metadata": {},
   "outputs": [
    {
     "data": {
      "text/plain": [
       "'더 일반적인 작업 분해 기법 중 하나는 \"Chain of Thought\" (CoT)입니다. CoT는 모델에게 단계별로 생각하도록 지시하여 복잡한 작업을 여러 간단한 단계로 분해하고, 이를 통해 모델의 성능을 향상시키는 방식입니다. 이 방식은 모델의 사고 과정을 해석하는 데 도움을 주며, 복잡한 작업을 효과적으로 해결하는 데 널리 사용됩니다.'"
      ]
     },
     "execution_count": 47,
     "metadata": {},
     "output_type": "execute_result"
    }
   ],
   "source": [
    "answer[\"answer\"]"
   ]
  },
  {
   "cell_type": "code",
   "execution_count": 48,
   "metadata": {},
   "outputs": [
    {
     "data": {
      "text/plain": [
       "[Document(page_content='Tree of Thoughts (Yao et al. 2023) extends CoT by exploring multiple reasoning possibilities at each step. It first decomposes the problem into multiple thought steps and generates multiple thoughts per step, creating a tree structure. The search process can be BFS (breadth-first search) or DFS (depth-first search) with each state evaluated by a classifier (via a prompt) or majority vote.\\nTask decomposition can be done (1) by LLM with simple prompting like \"Steps for XYZ.\\\\n1.\", \"What are the subgoals for achieving XYZ?\", (2) by using task-specific instructions; e.g. \"Write a story outline.\" for writing a novel, or (3) with human inputs.', metadata={'source': 'https://lilianweng.github.io/posts/2023-06-23-agent'}),\n",
       " Document(page_content='Fig. 1. Overview of a LLM-powered autonomous agent system.\\nComponent One: Planning#\\nA complicated task usually involves many steps. An agent needs to know what they are and plan ahead.\\nTask Decomposition#\\nChain of thought (CoT; Wei et al. 2022) has become a standard prompting technique for enhancing model performance on complex tasks. The model is instructed to “think step by step” to utilize more test-time computation to decompose hard tasks into smaller and simpler steps. CoT transforms big tasks into multiple manageable tasks and shed lights into an interpretation of the model’s thinking process.', metadata={'source': 'https://lilianweng.github.io/posts/2023-06-23-agent'}),\n",
       " Document(page_content='Fig. 6. Illustration of how Algorithm Distillation (AD) works. (Image source: Laskin et al. 2023).\\nThe paper hypothesizes that any algorithm that generates a set of learning histories can be distilled into a neural network by performing behavioral cloning over actions. The history data is generated by a set of source policies, each trained for a specific task. At the training stage, during each RL run, a random task is sampled and a subsequence of multi-episode history is used for training, such that the learned policy is task-agnostic.\\nIn reality, the model has limited context window length, so episodes should be short enough to construct multi-episode history. Multi-episodic contexts of 2-4 episodes are necessary to learn a near-optimal in-context RL algorithm. The emergence of in-context RL requires long enough context.', metadata={'source': 'https://lilianweng.github.io/posts/2023-06-23-agent'}),\n",
       " Document(page_content='Finite context length: The restricted context capacity limits the inclusion of historical information, detailed instructions, API call context, and responses. The design of the system has to work with this limited communication bandwidth, while mechanisms like self-reflection to learn from past mistakes would benefit a lot from long or infinite context windows. Although vector stores and retrieval can provide access to a larger knowledge pool, their representation power is not as powerful as full attention.\\n\\n\\nChallenges in long-term planning and task decomposition: Planning over a lengthy history and effectively exploring the solution space remain challenging. LLMs struggle to adjust plans when faced with unexpected errors, making them less robust compared to humans who learn from trial and error.', metadata={'source': 'https://lilianweng.github.io/posts/2023-06-23-agent'})]"
      ]
     },
     "execution_count": 48,
     "metadata": {},
     "output_type": "execute_result"
    }
   ],
   "source": [
    "answer[\"context\"]"
   ]
  },
  {
   "cell_type": "code",
   "execution_count": 50,
   "metadata": {},
   "outputs": [
    {
     "name": "stdout",
     "output_type": "stream",
     "text": [
      "{'input': '더 일반적인 기법이 뭐야?', 'chat_history': [HumanMessage(content='작업 분해가 뭐야?'), AIMessage(content='작업 분해는 복잡한 작업을 더 작고 관리하기 쉬운 여러 단계나 하위 목표로 나누는 과정입니다. 이를 통해 대규모 문제를 해결하는 데 도움이 되며, 모델이 문제 해결 과정을 단계별로 생각하게 만들어 성능을 향상시킬 수 있습니다. 예를 들어, \"Chain of Thought\" 방식은 모델이 복잡한 작업을 여러 간단한 단계로 분해하여 접근하도록 합니다.'), HumanMessage(content='더 일반적인 기법이 뭐야?'), AIMessage(content='더 일반적인 작업 분해 기법 중 하나는 \"Chain of Thought\" (CoT)입니다. CoT는 모델에게 단계별로 생각하도록 지시하여 복잡한 작업을 여러 간단한 단계로 분해하고, 이를 통해 모델의 성능을 향상시키는 방식입니다. 이 방식은 모델의 사고 과정을 해석하는 데 도움을 주며, 복잡한 작업을 효과적으로 해결하는 데 널리 사용됩니다.')]}\n",
      "{'context': [Document(page_content='Tree of Thoughts (Yao et al. 2023) extends CoT by exploring multiple reasoning possibilities at each step. It first decomposes the problem into multiple thought steps and generates multiple thoughts per step, creating a tree structure. The search process can be BFS (breadth-first search) or DFS (depth-first search) with each state evaluated by a classifier (via a prompt) or majority vote.\\nTask decomposition can be done (1) by LLM with simple prompting like \"Steps for XYZ.\\\\n1.\", \"What are the subgoals for achieving XYZ?\", (2) by using task-specific instructions; e.g. \"Write a story outline.\" for writing a novel, or (3) with human inputs.', metadata={'source': 'https://lilianweng.github.io/posts/2023-06-23-agent'}), Document(page_content='Resources:\\n1. Internet access for searches and information gathering.\\n2. Long Term memory management.\\n3. GPT-3.5 powered Agents for delegation of simple tasks.\\n4. File output.\\n\\nPerformance Evaluation:\\n1. Continuously review and analyze your actions to ensure you are performing to the best of your abilities.\\n2. Constructively self-criticize your big-picture behavior constantly.\\n3. Reflect on past decisions and strategies to refine your approach.\\n4. Every command has a cost, so be smart and efficient. Aim to complete tasks in the least number of steps.', metadata={'source': 'https://lilianweng.github.io/posts/2023-06-23-agent'}), Document(page_content='Fig. 1. Overview of a LLM-powered autonomous agent system.\\nComponent One: Planning#\\nA complicated task usually involves many steps. An agent needs to know what they are and plan ahead.\\nTask Decomposition#\\nChain of thought (CoT; Wei et al. 2022) has become a standard prompting technique for enhancing model performance on complex tasks. The model is instructed to “think step by step” to utilize more test-time computation to decompose hard tasks into smaller and simpler steps. CoT transforms big tasks into multiple manageable tasks and shed lights into an interpretation of the model’s thinking process.', metadata={'source': 'https://lilianweng.github.io/posts/2023-06-23-agent'}), Document(page_content='}\\n]\\nChallenges#\\nAfter going through key ideas and demos of building LLM-centered agents, I start to see a couple common limitations:', metadata={'source': 'https://lilianweng.github.io/posts/2023-06-23-agent'})]}\n",
      "{'answer': ''}\n",
      "{'answer': '\"'}\n",
      "{'answer': 'Chain'}\n",
      "{'answer': ' of'}\n",
      "{'answer': ' Thought'}\n",
      "{'answer': '\"'}\n",
      "{'answer': ' ('}\n",
      "{'answer': 'Co'}\n",
      "{'answer': 'T'}\n",
      "{'answer': ')'}\n",
      "{'answer': ' 방'}\n",
      "{'answer': '식'}\n",
      "{'answer': '은'}\n",
      "{'answer': ' 모'}\n",
      "{'answer': '델'}\n",
      "{'answer': '이'}\n",
      "{'answer': ' 복'}\n",
      "{'answer': '잡'}\n",
      "{'answer': '한'}\n",
      "{'answer': ' 문'}\n",
      "{'answer': '제'}\n",
      "{'answer': '를'}\n",
      "{'answer': ' 여'}\n",
      "{'answer': '러'}\n",
      "{'answer': ' 간'}\n",
      "{'answer': '단'}\n",
      "{'answer': '한'}\n",
      "{'answer': ' 단'}\n",
      "{'answer': '계'}\n",
      "{'answer': '로'}\n",
      "{'answer': ' 분'}\n",
      "{'answer': '해'}\n",
      "{'answer': '하여'}\n",
      "{'answer': ' 접'}\n",
      "{'answer': '근'}\n",
      "{'answer': '하'}\n",
      "{'answer': '도'}\n",
      "{'answer': '록'}\n",
      "{'answer': ' '}\n",
      "{'answer': '하는'}\n",
      "{'answer': ' 일'}\n",
      "{'answer': '반'}\n",
      "{'answer': '적'}\n",
      "{'answer': '인'}\n",
      "{'answer': ' 기'}\n",
      "{'answer': '법'}\n",
      "{'answer': ' 중'}\n",
      "{'answer': ' 하'}\n",
      "{'answer': '나'}\n",
      "{'answer': '입니다'}\n",
      "{'answer': '.'}\n",
      "{'answer': ' 이'}\n",
      "{'answer': '는'}\n",
      "{'answer': ' 모'}\n",
      "{'answer': '델'}\n",
      "{'answer': '의'}\n",
      "{'answer': ' 성'}\n",
      "{'answer': '능'}\n",
      "{'answer': '을'}\n",
      "{'answer': ' 향'}\n",
      "{'answer': '상'}\n",
      "{'answer': '시'}\n",
      "{'answer': '키'}\n",
      "{'answer': '고'}\n",
      "{'answer': ' 사'}\n",
      "{'answer': '고'}\n",
      "{'answer': ' 과'}\n",
      "{'answer': '정'}\n",
      "{'answer': '을'}\n",
      "{'answer': ' 더'}\n",
      "{'answer': ' 잘'}\n",
      "{'answer': ' 이'}\n",
      "{'answer': '해'}\n",
      "{'answer': '할'}\n",
      "{'answer': ' 수'}\n",
      "{'answer': ' 있'}\n",
      "{'answer': '게'}\n",
      "{'answer': ' 해'}\n",
      "{'answer': '주'}\n",
      "{'answer': '는'}\n",
      "{'answer': ' 방'}\n",
      "{'answer': '법'}\n",
      "{'answer': '입니다'}\n",
      "{'answer': '.'}\n",
      "{'answer': ' Co'}\n",
      "{'answer': 'T'}\n",
      "{'answer': '는'}\n",
      "{'answer': ' 복'}\n",
      "{'answer': '잡'}\n",
      "{'answer': '한'}\n",
      "{'answer': ' 문'}\n",
      "{'answer': '제'}\n",
      "{'answer': ' 해'}\n",
      "{'answer': '결'}\n",
      "{'answer': '에'}\n",
      "{'answer': ' 있'}\n",
      "{'answer': '어'}\n",
      "{'answer': '서'}\n",
      "{'answer': ' 모'}\n",
      "{'answer': '델'}\n",
      "{'answer': '의'}\n",
      "{'answer': ' 사'}\n",
      "{'answer': '고'}\n",
      "{'answer': ' 과'}\n",
      "{'answer': '정'}\n",
      "{'answer': '을'}\n",
      "{'answer': ' 단'}\n",
      "{'answer': '계'}\n",
      "{'answer': '별'}\n",
      "{'answer': '로'}\n",
      "{'answer': ' 나'}\n",
      "{'answer': '누'}\n",
      "{'answer': '어'}\n",
      "{'answer': ' 접'}\n",
      "{'answer': '근'}\n",
      "{'answer': '하'}\n",
      "{'answer': '게'}\n",
      "{'answer': ' 함'}\n",
      "{'answer': '으로'}\n",
      "{'answer': '써'}\n",
      "{'answer': ','}\n",
      "{'answer': ' 문'}\n",
      "{'answer': '제'}\n",
      "{'answer': '를'}\n",
      "{'answer': ' 보'}\n",
      "{'answer': '다'}\n",
      "{'answer': ' 효'}\n",
      "{'answer': '과'}\n",
      "{'answer': '적'}\n",
      "{'answer': '으로'}\n",
      "{'answer': ' 해'}\n",
      "{'answer': '결'}\n",
      "{'answer': '할'}\n",
      "{'answer': ' 수'}\n",
      "{'answer': ' 있'}\n",
      "{'answer': '게'}\n",
      "{'answer': ' 돕'}\n",
      "{'answer': '습니다'}\n",
      "{'answer': '.'}\n",
      "{'answer': ''}\n"
     ]
    }
   ],
   "source": [
    "for chunk in rag_chain.stream(\n",
    "    {\n",
    "        \"input\": question,\n",
    "        \"chat_history\": chat_history,\n",
    "    }\n",
    "):\n",
    "    print(chunk)"
   ]
  }
 ],
 "metadata": {
  "kernelspec": {
   "display_name": ".venv",
   "language": "python",
   "name": "python3"
  },
  "language_info": {
   "codemirror_mode": {
    "name": "ipython",
    "version": 3
   },
   "file_extension": ".py",
   "mimetype": "text/x-python",
   "name": "python",
   "nbconvert_exporter": "python",
   "pygments_lexer": "ipython3",
   "version": "3.11.9"
  }
 },
 "nbformat": 4,
 "nbformat_minor": 2
}
