{
 "cells": [
  {
   "cell_type": "code",
   "execution_count": 1,
   "id": "09878c96-a258-4fc7-a834-6811b818191d",
   "metadata": {},
   "outputs": [],
   "source": [
    "import pandas as pd\n",
    "import urllib.request\n",
    "from tokenizers import BertWordPieceTokenizer"
   ]
  },
  {
   "cell_type": "markdown",
   "id": "9b6b7cdb-a18a-4162-a78e-d9bc7dacc6f9",
   "metadata": {},
   "source": [
    "### 데이터 ETL"
   ]
  },
  {
   "cell_type": "code",
   "execution_count": 2,
   "id": "94acf99d-28f8-4b9d-af6a-b550e7eaf6a2",
   "metadata": {},
   "outputs": [],
   "source": [
    "urllib.request.urlretrieve(\n",
    "    'https://raw.githubusercontent.com/e9t/nsmc/master/ratings.txt',\n",
    "    filename='ratings.txt'\n",
    ")\n",
    "\n",
    "# 데이터를 데이터프레임으로 불러오기\n",
    "ratings_df = pd.read_table('ratings.txt')\n",
    "\n",
    "# 결측값 제거\n",
    "ratings_df = ratings_df.dropna(how='any')\n",
    "\n",
    "# 전처리 데이터 저장\n",
    "with open('ratings_1.txt', 'w', encoding='utf8') as f:\n",
    "    f.write('\\n'.join(ratings_df['document']))"
   ]
  },
  {
   "cell_type": "markdown",
   "id": "75292dca-7244-47a5-9d9c-0020a2c63eb6",
   "metadata": {},
   "source": [
    "### 토크나이저 설정"
   ]
  },
  {
   "cell_type": "code",
   "execution_count": 3,
   "id": "ed834a85-f597-4f9a-8909-69f81abc8f16",
   "metadata": {},
   "outputs": [],
   "source": [
    "tokenizer = BertWordPieceTokenizer(\n",
    "    # 대문자를 소문자로 변환하여 대소문자를 구분하지 않음\n",
    "    lowercase=False,\n",
    "    # 악센트 제거\n",
    "    strip_accents=False\n",
    ")"
   ]
  },
  {
   "cell_type": "code",
   "execution_count": 4,
   "id": "6a0c749a-c42d-4fcf-91dd-b42efadd3c57",
   "metadata": {},
   "outputs": [
    {
     "name": "stdout",
     "output_type": "stream",
     "text": [
      "\n",
      "\n",
      "\n"
     ]
    },
    {
     "data": {
      "text/html": [
       "<div>\n",
       "<style scoped>\n",
       "    .dataframe tbody tr th:only-of-type {\n",
       "        vertical-align: middle;\n",
       "    }\n",
       "\n",
       "    .dataframe tbody tr th {\n",
       "        vertical-align: top;\n",
       "    }\n",
       "\n",
       "    .dataframe thead th {\n",
       "        text-align: right;\n",
       "    }\n",
       "</style>\n",
       "<table border=\"1\" class=\"dataframe\">\n",
       "  <thead>\n",
       "    <tr style=\"text-align: right;\">\n",
       "      <th></th>\n",
       "      <th>0</th>\n",
       "    </tr>\n",
       "  </thead>\n",
       "  <tbody>\n",
       "    <tr>\n",
       "      <th>0</th>\n",
       "      <td>[PAD]</td>\n",
       "    </tr>\n",
       "    <tr>\n",
       "      <th>1</th>\n",
       "      <td>[UNK]</td>\n",
       "    </tr>\n",
       "    <tr>\n",
       "      <th>2</th>\n",
       "      <td>[CLS]</td>\n",
       "    </tr>\n",
       "    <tr>\n",
       "      <th>3</th>\n",
       "      <td>[SEP]</td>\n",
       "    </tr>\n",
       "    <tr>\n",
       "      <th>4</th>\n",
       "      <td>[MASK]</td>\n",
       "    </tr>\n",
       "    <tr>\n",
       "      <th>...</th>\n",
       "      <td>...</td>\n",
       "    </tr>\n",
       "    <tr>\n",
       "      <th>29995</th>\n",
       "      <td>맛도</td>\n",
       "    </tr>\n",
       "    <tr>\n",
       "      <th>29996</th>\n",
       "      <td>망하지</td>\n",
       "    </tr>\n",
       "    <tr>\n",
       "      <th>29997</th>\n",
       "      <td>망한다</td>\n",
       "    </tr>\n",
       "    <tr>\n",
       "      <th>29998</th>\n",
       "      <td>망가지</td>\n",
       "    </tr>\n",
       "    <tr>\n",
       "      <th>29999</th>\n",
       "      <td>망정이지</td>\n",
       "    </tr>\n",
       "  </tbody>\n",
       "</table>\n",
       "<p>30000 rows × 1 columns</p>\n",
       "</div>"
      ],
      "text/plain": [
       "            0\n",
       "0       [PAD]\n",
       "1       [UNK]\n",
       "2       [CLS]\n",
       "3       [SEP]\n",
       "4      [MASK]\n",
       "...       ...\n",
       "29995      맛도\n",
       "29996     망하지\n",
       "29997     망한다\n",
       "29998     망가지\n",
       "29999    망정이지\n",
       "\n",
       "[30000 rows x 1 columns]"
      ]
     },
     "execution_count": 4,
     "metadata": {},
     "output_type": "execute_result"
    }
   ],
   "source": [
    "# 학습 데이터\n",
    "files = 'ratings_1.txt'\n",
    "\n",
    "# 단어 집합의 크기\n",
    "vocab_size = 30000\n",
    "\n",
    "# 허용하는 변환 전 텍스트의 토큰 개수\n",
    "limit_alphabet = 6000\n",
    "\n",
    "# 설정 값 이상으로 등장한 글자 쌍을 처리합니다\n",
    "min_frequency = 5\n",
    "\n",
    "tokenizer.train(\n",
    "    files=files,\n",
    "    vocab_size=vocab_size,\n",
    "    limit_alphabet=limit_alphabet,\n",
    "    min_frequency=min_frequency\n",
    ")\n",
    "\n",
    "# 단어 집합을 vocab.txt로 저장\n",
    "tokenizer.save_model('.')\n",
    "\n",
    "# 단어 집합 불러오기\n",
    "vocab_df = pd.read_fwf('vocab.txt', header=None)\n",
    "\n",
    "vocab_df"
   ]
  },
  {
   "cell_type": "markdown",
   "id": "f0e79f41-bc2d-43b8-8f92-9f95ea2575f8",
   "metadata": {},
   "source": [
    "### 토큰화"
   ]
  },
  {
   "cell_type": "code",
   "execution_count": 5,
   "id": "8f246ad3-7399-4dd7-9866-fe139075de29",
   "metadata": {},
   "outputs": [
    {
     "name": "stdout",
     "output_type": "stream",
     "text": [
      "토큰화 결과:  ['아', '배고', '##픈', '##데', '짜장면', '##먹고', '##싶다']\n",
      "정수 인코딩 결과:  [2111, 20631, 3980, 3242, 24681, 7873, 7379]\n",
      "디코딩 결과:  아 배고픈데 짜장면먹고싶다\n"
     ]
    }
   ],
   "source": [
    "encoded = tokenizer.encode('아 배고픈데 짜장면먹고싶다')\n",
    "\n",
    "print('토큰화 결과: ', encoded.tokens)\n",
    "print('정수 인코딩 결과: ', encoded.ids)\n",
    "print('디코딩 결과: ', tokenizer.decode(encoded.ids))"
   ]
  }
 ],
 "metadata": {
  "kernelspec": {
   "display_name": "Python 3 (ipykernel)",
   "language": "python",
   "name": "python3"
  },
  "language_info": {
   "codemirror_mode": {
    "name": "ipython",
    "version": 3
   },
   "file_extension": ".py",
   "mimetype": "text/x-python",
   "name": "python",
   "nbconvert_exporter": "python",
   "pygments_lexer": "ipython3",
   "version": "3.7.12"
  }
 },
 "nbformat": 4,
 "nbformat_minor": 5
}
